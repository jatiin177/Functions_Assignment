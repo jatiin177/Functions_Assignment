{
 "cells": [
  {
   "cell_type": "code",
   "execution_count": null,
   "id": "4e41a870-2e0f-438d-92af-2bf892e19a3d",
   "metadata": {},
   "outputs": [],
   "source": [
    "###############################FUNCTION ASSIGNMENT######################################"
   ]
  },
  {
   "cell_type": "code",
   "execution_count": null,
   "id": "63e31d5d-d477-4599-af69-05fa43d5eba6",
   "metadata": {},
   "outputs": [],
   "source": [
    "Theory Questions:"
   ]
  },
  {
   "cell_type": "code",
   "execution_count": null,
   "id": "cb1acf64-68fc-4a20-897c-bd8757ce144c",
   "metadata": {},
   "outputs": [],
   "source": [
    "Q1.  What is the difference between a function and a method in Python?\n",
    "\n",
    "Ans- Python Method\n",
    "\n",
    "    1. Method is called by its name, but it is associated to an object (dependent).\n",
    "    2. A method definition always includes ‘self’ as its first parameter.\n",
    "    3. A method is implicitly passed to the object on which it is invoked.\n",
    "    4. It may or may not return any data.\n",
    "    5. A method can operate on the data (instance variables) that is contained by the corresponding class\n",
    "\n",
    "Basic Method Structure in Python : "
   ]
  },
  {
   "cell_type": "code",
   "execution_count": 3,
   "id": "1e430477-d4ef-42bb-bc45-aa05efc4368b",
   "metadata": {},
   "outputs": [
    {
     "name": "stdout",
     "output_type": "stream",
     "text": [
      "I am in method_abc of math class. \n"
     ]
    }
   ],
   "source": [
    "#example:\n",
    "class ABC :\n",
    "\tdef method_abc (self):\n",
    "\t\tprint(\"I am in method_abc of math class. \")\n",
    "\n",
    "class_ref = ABC() # object of math class\n",
    "class_ref.method_abc()\n"
   ]
  },
  {
   "cell_type": "code",
   "execution_count": null,
   "id": "9fe85112-b67b-4c2e-b032-2eaf039fd8f7",
   "metadata": {},
   "outputs": [],
   "source": [
    "Functions:\n",
    "\n",
    "    1. Function is block of code that is also called by its name. (independent)\n",
    "    2. The function can have different parameters or may not have any at all. If any data (parameters) are passed, they are passed explicitly.\n",
    "    3. It may or may not return any data.\n",
    "    4. Function does not deal with Class and its instance concept.\n",
    "\n",
    "Basic Function Structure in Python : \n"
   ]
  },
  {
   "cell_type": "code",
   "execution_count": 5,
   "id": "9c30821a-c694-488f-aaee-82aaed045315",
   "metadata": {},
   "outputs": [
    {
     "name": "stdout",
     "output_type": "stream",
     "text": [
      "-2\n",
      "9\n"
     ]
    }
   ],
   "source": [
    "def Subtract (a, b):\n",
    "\treturn (a-b)\n",
    "\n",
    "print( Subtract(10, 12) ) \n",
    "\n",
    "print( Subtract(15, 6) ) \n"
   ]
  },
  {
   "cell_type": "code",
   "execution_count": null,
   "id": "ee8f3f16-564c-40da-9dbc-db7a13ec768d",
   "metadata": {},
   "outputs": [],
   "source": [
    "Q2. Explain the concept of function arguments and parameters in Python.\n",
    "\n",
    "Ans- -> Parameters are variables defined in a function declaration. \n",
    "        This act as placeholders for the values (arguments) that will be passed to the function.\n",
    "\n",
    "     -> Arguments are the actual values that you pass to the function when you call it. These values replace the parameters defined in the function."
   ]
  },
  {
   "cell_type": "code",
   "execution_count": 7,
   "id": "3a9c820e-ef50-442e-815a-492109d1860c",
   "metadata": {},
   "outputs": [
    {
     "name": "stdout",
     "output_type": "stream",
     "text": [
      "3\n"
     ]
    }
   ],
   "source": [
    "#Parameters: A parameter is the variable defined within the parentheses when we declare a function. \n",
    "# Here a,b are the parameters\n",
    "def sum(a,b):\n",
    "  print(a+b)\n",
    "  \n",
    "sum(1,2)\n"
   ]
  },
  {
   "cell_type": "code",
   "execution_count": 9,
   "id": "eebb96d7-47c9-4b94-af4b-1483d93775ee",
   "metadata": {},
   "outputs": [
    {
     "name": "stdout",
     "output_type": "stream",
     "text": [
      "3\n"
     ]
    }
   ],
   "source": [
    "#Arguments: An argument is a value that is passed to a function when it is called. It might be a variable, value or object passed to a function or method as input.\n",
    "\n",
    "#Example:\n",
    "def sum(a,b):\n",
    "  print(a+b)\n",
    "  \n",
    "# Here the values 1,2 are arguments\n",
    "sum(1,2)"
   ]
  },
  {
   "cell_type": "code",
   "execution_count": null,
   "id": "0019bdec-09c8-426f-93dc-195aa401d23d",
   "metadata": {},
   "outputs": [],
   "source": [
    "-> Types of arguments in python\n",
    "\n",
    "   Python functions can contain two types of arguments:\n",
    "   1.Positional Arguments\n",
    "   2.Keyword Arguments\n",
    "\n",
    "  #Positional Arguments:\n",
    "    Positional Arguments are needed to be included in proper order \n",
    "    i.e the first argument is always listed first when the function is called, second argument needs to be called second and so on."
   ]
  },
  {
   "cell_type": "code",
   "execution_count": 13,
   "id": "06d197db-cfa0-4504-8147-f75a13152101",
   "metadata": {},
   "outputs": [
    {
     "name": "stdout",
     "output_type": "stream",
     "text": [
      "hellobye\n"
     ]
    }
   ],
   "source": [
    "#example:\n",
    "def fun(s1,s2):\n",
    "  print(s1+s2)\n",
    "  \n",
    "fun(\"hello\",\"bye\")"
   ]
  },
  {
   "cell_type": "code",
   "execution_count": null,
   "id": "2d4058b6-e3a6-43e9-a70d-a925bf676740",
   "metadata": {},
   "outputs": [],
   "source": [
    "Keyword Arguments:\n",
    "Keyword Arguments is an argument passed to a function or method which is preceded by a keyword and equal to sign (=). \n",
    "The order of keyword argument with respect to another keyword argument does not matter because the values are being explicitly assigned."
   ]
  },
  {
   "cell_type": "code",
   "execution_count": 15,
   "id": "be5f98ab-ab9f-4b03-821e-f088adbd4441",
   "metadata": {},
   "outputs": [
    {
     "name": "stdout",
     "output_type": "stream",
     "text": [
      "hellobye\n"
     ]
    }
   ],
   "source": [
    "#example:\n",
    "def fun(s1, s2):\n",
    "    print(s1 + s2)\n",
    "\n",
    "\n",
    "# Here we are explicitly assigning the values\n",
    "fun(s1=\"hello\", s2=\"bye\")"
   ]
  },
  {
   "cell_type": "code",
   "execution_count": null,
   "id": "0a45195c-c188-4a64-bf58-66ae98e74f7f",
   "metadata": {},
   "outputs": [],
   "source": [
    "Q3. What are the different ways to define and call a function in Python?\n",
    "\n",
    "Ans- In Python, functions can be defined and called in several ways, depending on the use case. Below are the various ways to define and call functions, along with examples.\n",
    "     1. Simple Function\n",
    "\n",
    "    A standard function with positional parameters.\n"
   ]
  },
  {
   "cell_type": "code",
   "execution_count": 21,
   "id": "522609c6-9c5d-4e9d-940c-fe725c15d9af",
   "metadata": {},
   "outputs": [
    {
     "name": "stdout",
     "output_type": "stream",
     "text": [
      "Hello, Jatin!\n"
     ]
    }
   ],
   "source": [
    "#Definition:\n",
    "\n",
    "def greet(name):\n",
    "    \"\"\"Greets a person with their name.\"\"\"\n",
    "    print(f\"Hello, {name}!\")\n",
    "\n",
    "#Call:\n",
    "\n",
    "greet(\"Jatin\")"
   ]
  },
  {
   "cell_type": "code",
   "execution_count": 23,
   "id": "975272fb-9f48-451d-9d60-374b7ee6467c",
   "metadata": {},
   "outputs": [
    {
     "name": "stdout",
     "output_type": "stream",
     "text": [
      "Hello, Guest!\n",
      "Hello, Sharma!\n"
     ]
    }
   ],
   "source": [
    "#2. Function with Default Parameters\n",
    "\n",
    "  #  Default values are provided for parameters, making them optional during function calls.\n",
    "\n",
    "#Definition:\n",
    "\n",
    "def greet(name=\"Guest\"):\n",
    "    print(f\"Hello, {name}!\")\n",
    "\n",
    "#Call:\n",
    "\n",
    "greet()         \n",
    "greet(\"Sharma\") "
   ]
  },
  {
   "cell_type": "code",
   "execution_count": 37,
   "id": "78013a49-12ae-4bee-96b8-0bbe54185512",
   "metadata": {},
   "outputs": [
    {
     "name": "stdout",
     "output_type": "stream",
     "text": [
      "A 4 Apple\n"
     ]
    }
   ],
   "source": [
    "#3. Function with Multiple Parameters\n",
    "\n",
    "#    A function that takes multiple arguments.\n",
    "\n",
    "#Definition:\n",
    "# multiple arguments are passed\n",
    "\n",
    "# function definition\n",
    "def displayMessage(argument1, argument2, argument3):\n",
    "          print(argument1+\" \"+argument2+\" \"+argument3)\n",
    "\n",
    "# function call\n",
    "displayMessage(\"A\", \"4\", \"Apple\")"
   ]
  },
  {
   "cell_type": "code",
   "execution_count": 39,
   "id": "378da8d5-4d74-4e3f-98ac-6452fb2fc30f",
   "metadata": {},
   "outputs": [
    {
     "name": "stdout",
     "output_type": "stream",
     "text": [
      "My name is Alex and I am 25 years old.\n"
     ]
    }
   ],
   "source": [
    "#4. Function with Keyword Arguments\n",
    "\n",
    "   # Arguments are passed by specifying the parameter names explicitly.\n",
    "\n",
    "#Definition:\n",
    "\n",
    "def introduce(name, age):\n",
    "    print(f\"My name is {name} and I am {age} years old.\")\n",
    "\n",
    "#Call:\n",
    "\n",
    "introduce(age=25, name=\"Alex\")"
   ]
  },
  {
   "cell_type": "code",
   "execution_count": 45,
   "id": "289f27f1-fadf-4aeb-b785-49b195426f13",
   "metadata": {},
   "outputs": [
    {
     "name": "stdout",
     "output_type": "stream",
     "text": [
      "15\n"
     ]
    }
   ],
   "source": [
    "#5. Function with Variable-Length Arguments\n",
    "\n",
    " #   Accepts a variable number of positional or keyword arguments.\n",
    "\n",
    "def sum_all(*args):\n",
    "\tresult = 0\n",
    "\tfor num in args:\n",
    "\t\tresult += num\n",
    "\treturn result\n",
    "\n",
    "print(sum_all(1, 2, 3, 4, 5))\n"
   ]
  },
  {
   "cell_type": "code",
   "execution_count": 47,
   "id": "86e874fd-279b-4f84-a085-aea58042ac0e",
   "metadata": {},
   "outputs": [
    {
     "name": "stdout",
     "output_type": "stream",
     "text": [
      "16\n"
     ]
    }
   ],
   "source": [
    "#6. Lambda Functions (Anonymous Functions)\n",
    "\n",
    " #   A single-line function defined using lambda.\n",
    "\n",
    "#Definition:\n",
    "\n",
    "square = lambda x: x ** 2\n",
    "\n",
    "#Call:\n",
    "\n",
    "print(square(4)) "
   ]
  },
  {
   "cell_type": "code",
   "execution_count": 49,
   "id": "cf820082-26a5-4422-9187-d8cf47efe325",
   "metadata": {},
   "outputs": [
    {
     "name": "stdout",
     "output_type": "stream",
     "text": [
      "120\n"
     ]
    }
   ],
   "source": [
    "#7. Recursive Function\n",
    "\n",
    "#    A function that calls itself.\n",
    "\n",
    "#Definition:\n",
    "\n",
    "def factorial(n):\n",
    "    if n == 0:\n",
    "        return 1\n",
    "    return n * factorial(n - 1)\n",
    "\n",
    "#Call:\n",
    "\n",
    "print(factorial(5))"
   ]
  },
  {
   "cell_type": "code",
   "execution_count": 51,
   "id": "7ef85a7f-854c-4d3d-9fda-bdae19d7fbe7",
   "metadata": {},
   "outputs": [
    {
     "name": "stdout",
     "output_type": "stream",
     "text": [
      "Hello, World!\n"
     ]
    }
   ],
   "source": [
    "#8. Nested Functions\n",
    "\n",
    " #   A function defined inside another function.\n",
    "\n",
    "#Definition:\n",
    "\n",
    "def outer_function(text):\n",
    "    def inner_function():\n",
    "        print(text)\n",
    "    inner_function()\n",
    "\n",
    "#Call:\n",
    "\n",
    "outer_function(\"Hello, World!\") "
   ]
  },
  {
   "cell_type": "code",
   "execution_count": 53,
   "id": "a46de5b8-74e2-429e-9cc8-a9fbb1c2478f",
   "metadata": {},
   "outputs": [
    {
     "name": "stdout",
     "output_type": "stream",
     "text": [
      "10\n"
     ]
    }
   ],
   "source": [
    "#9. Higher-Order Functions\n",
    "\n",
    " #   A function that takes another function as an argument or returns a function.\n",
    "\n",
    "#Definition:\n",
    "\n",
    "def apply_function(func, value):\n",
    "    return func(value)\n",
    "\n",
    "double = lambda x: x * 2\n",
    "\n",
    "#Call:\n",
    "\n",
    "print(apply_function(double, 5))"
   ]
  },
  {
   "cell_type": "code",
   "execution_count": 55,
   "id": "a8ab4829-9b2b-4ec1-8b27-6d111abd95f7",
   "metadata": {},
   "outputs": [
    {
     "name": "stdout",
     "output_type": "stream",
     "text": [
      "5\n"
     ]
    }
   ],
   "source": [
    "#10. Function with Type Hints\n",
    "\n",
    " #   Provides type hints for parameters and return values.\n",
    "\n",
    "#Definition:\n",
    "\n",
    "def add(a: int, b: int) -> int:\n",
    "    return a + b\n",
    "\n",
    "#Call:\n",
    "\n",
    "print(add(2, 3))"
   ]
  },
  {
   "cell_type": "code",
   "execution_count": null,
   "id": "9805cbda-9854-4bfa-bfbf-1a7ccf6d18c8",
   "metadata": {},
   "outputs": [],
   "source": [
    "Q4. What is the purpose of the `return` statement in a Python function?\n",
    "\n",
    "Ans- A return statement is used to end the execution of the function call and it “returns” the value of the expression following \n",
    "     the return keyword to the caller. The statements after the return statements are not executed. If the return statement is without any expression, \n",
    "     then the special value None is returned. A return statement is overall used to invoke a function so that the passed statements can be executed.\n"
   ]
  },
  {
   "cell_type": "code",
   "execution_count": 57,
   "id": "74722393-be03-4f63-a480-8d56c83460f4",
   "metadata": {},
   "outputs": [
    {
     "name": "stdout",
     "output_type": "stream",
     "text": [
      "5\n",
      "True\n"
     ]
    }
   ],
   "source": [
    "def add(a, b):\n",
    "\n",
    "    # returning sum of a and b\n",
    "    return a + b\n",
    "\n",
    "def is_true(a):\n",
    "\n",
    "    # returning boolean of a\n",
    "    return bool(a)\n",
    "\n",
    "# calling function\n",
    "res = add(2, 3)\n",
    "print(res)\n",
    "\n",
    "res = is_true(2<5)\n",
    "print(res)\n"
   ]
  },
  {
   "cell_type": "code",
   "execution_count": null,
   "id": "ed54d414-c8d3-461c-a04e-e0e111831aa7",
   "metadata": {},
   "outputs": [],
   "source": [
    "Q5.  What are iterators in Python and how do they differ from iterables?\n",
    "\n",
    "Ans- Iterables\n",
    "\n",
    "    An iterable is an object that contains a collection of elements and can be iterated (looped) over.\n",
    "    Examples: Lists, tuples, strings, dictionaries, sets, etc.\n",
    "    An iterable has a special method called __iter__(), which returns an iterator for the object.\n"
   ]
  },
  {
   "cell_type": "code",
   "execution_count": 59,
   "id": "ecae378d-02cf-49f2-82cd-1a3c07908e7b",
   "metadata": {},
   "outputs": [
    {
     "name": "stdout",
     "output_type": "stream",
     "text": [
      "1\n",
      "2\n",
      "3\n"
     ]
    }
   ],
   "source": [
    "#Example:\n",
    "\n",
    "my_list = [1, 2, 3]  # A list is an iterable.\n",
    "for item in my_list:\n",
    "    print(item)\n"
   ]
  },
  {
   "cell_type": "code",
   "execution_count": null,
   "id": "86125523-4282-41e3-9db6-74aa29ef6bf5",
   "metadata": {},
   "outputs": [],
   "source": [
    "Iterators\n",
    "\n",
    "    An iterator is an object that represents a stream of data, producing one item at a time when requested using the next() function.\n",
    "    Iterators are created using the iter() function or by implementing the __iter__() and __next__() methods.\n",
    "    Once all items are consumed, the iterator raises a StopIteration exception.\n"
   ]
  },
  {
   "cell_type": "code",
   "execution_count": 61,
   "id": "9ee8f5e4-a4fd-497e-9ca0-68409d72475a",
   "metadata": {},
   "outputs": [
    {
     "name": "stdout",
     "output_type": "stream",
     "text": [
      "1\n",
      "2\n",
      "3\n"
     ]
    }
   ],
   "source": [
    "#Example:\n",
    "\n",
    "my_list = [1, 2, 3]\n",
    "iterator = iter(my_list)  # Create an iterator from the iterable.\n",
    "\n",
    "print(next(iterator))  \n",
    "print(next(iterator)) \n",
    "print(next(iterator))"
   ]
  },
  {
   "cell_type": "code",
   "execution_count": null,
   "id": "2204e9c3-9fe0-4fc3-a5dd-86f53caa0fe4",
   "metadata": {},
   "outputs": [],
   "source": [
    "Q6. Explain the concept of generators in Python and how they are defined.\n",
    "\n",
    "Ans- Generator Function in Python:\n",
    "\n",
    "     A generator function is a special type of function that returns an iterator object. \n",
    "     Instead of using return to send back a single value, generator functions use yield to produce a series of results over time. \n",
    "     This allows the function to generate values and pause its execution after each yield, maintaining its state between iterations."
   ]
  },
  {
   "cell_type": "code",
   "execution_count": 63,
   "id": "0b7549fb-e15b-40dc-9275-94c976bc7b32",
   "metadata": {},
   "outputs": [
    {
     "name": "stdout",
     "output_type": "stream",
     "text": [
      "1\n",
      "2\n",
      "3\n",
      "4\n",
      "5\n"
     ]
    }
   ],
   "source": [
    "#example:\n",
    "def fun(max):\n",
    "    cnt = 1\n",
    "    while cnt <= max:\n",
    "        yield cnt\n",
    "        cnt += 1\n",
    "\n",
    "ctr = fun(5)\n",
    "for n in ctr:\n",
    "    print(n)\n"
   ]
  },
  {
   "cell_type": "code",
   "execution_count": null,
   "id": "3b34f3d1-f673-4d9b-8100-2f4dad22e736",
   "metadata": {},
   "outputs": [],
   "source": [
    "Python Generator Expression:\n",
    "Generator expressions are a concise way to create generators. \n",
    "They are similar to list comprehensions but use parentheses instead of square brackets and are more memory efficient."
   ]
  },
  {
   "cell_type": "code",
   "execution_count": 65,
   "id": "4dd0ad2d-dded-45f6-9ef2-1c99e0b60fe2",
   "metadata": {},
   "outputs": [
    {
     "name": "stdout",
     "output_type": "stream",
     "text": [
      "1\n",
      "4\n",
      "9\n",
      "16\n",
      "25\n"
     ]
    }
   ],
   "source": [
    "#example:\n",
    "sq = (x*x for x in range(1, 6))\n",
    "for i in sq:\n",
    "    print(i)"
   ]
  },
  {
   "cell_type": "code",
   "execution_count": null,
   "id": "459e000d-5b67-42ca-b9b8-03c371ba187f",
   "metadata": {},
   "outputs": [],
   "source": [
    "Q7.  What are the advantages of using generators over regular functions?\n",
    "\n",
    "Ans- Generators offer several advantages over regular functions, particularly in terms of memory efficiency, performance, and functionality. \n",
    "    \n",
    "     Advantages of Generators\n",
    "\n",
    "    -> Memory Efficiency:\n",
    "\n",
    "        Generators produce values on demand, so they don’t require memory to store the entire output in advance. \n",
    "        This is particularly useful when dealing with large datasets or streams.\n"
   ]
  },
  {
   "cell_type": "code",
   "execution_count": 71,
   "id": "c04074c3-b665-4e24-ba25-fb1b470380ae",
   "metadata": {},
   "outputs": [],
   "source": [
    "#example: \n",
    "def large_numbers():\n",
    "    for i in range(1, 10**6):\n",
    "        yield i\n",
    "\n",
    "gen = large_numbers()  # Memory-efficient\n",
    "for num in gen:\n",
    "    if num > 5:\n",
    "        break\n",
    "\n",
    "#In contrast, a list-based function would create a large list in memory:\n",
    "\n",
    "def large_numbers_list():\n",
    "    return [i for i in range(1, 10**6)]\n",
    "\n",
    "lst = large_numbers_list()"
   ]
  },
  {
   "cell_type": "code",
   "execution_count": 80,
   "id": "b2de9c31-bed2-429d-ac3a-16267358aff6",
   "metadata": {},
   "outputs": [
    {
     "name": "stdout",
     "output_type": "stream",
     "text": [
      "0\n",
      "1\n",
      "1\n"
     ]
    }
   ],
   "source": [
    "#Lazy Evaluation:\n",
    "\n",
    "#Generators produce items only when they are needed, which can improve performance for computations that may not need the entire output.\n",
    "\n",
    "#Example:\n",
    "\n",
    "def fibonacci():\n",
    "        a, b = 0, 1\n",
    "        while True:\n",
    "            yield a\n",
    "            a, b = b, a + b\n",
    "\n",
    "fib_gen = fibonacci()\n",
    "print(next(fib_gen))  \n",
    "print(next(fib_gen))  \n",
    "print(next(fib_gen))"
   ]
  },
  {
   "cell_type": "code",
   "execution_count": 85,
   "id": "cbd3c357-98d1-4364-b628-e17f5bfaa1be",
   "metadata": {},
   "outputs": [
    {
     "name": "stdout",
     "output_type": "stream",
     "text": [
      "1\n",
      "2\n"
     ]
    }
   ],
   "source": [
    "#Ability to Represent Infinite Sequences:\n",
    "#Generators can model infinite sequences, which is not feasible with regular functions or lists due to memory constraints.\n",
    "#Example:\n",
    "def infinite_counter(start=1):\n",
    "    while True:\n",
    "        yield start\n",
    "        start += 1\n",
    "counter = infinite_counter()\n",
    "print(next(counter))  \n",
    "print(next(counter))  \n",
    "\n"
   ]
  },
  {
   "cell_type": "code",
   "execution_count": 87,
   "id": "00115618-5180-45ec-baf2-0ab60b8c16d2",
   "metadata": {},
   "outputs": [
    {
     "name": "stdout",
     "output_type": "stream",
     "text": [
      "olleh"
     ]
    }
   ],
   "source": [
    "#Simpler Code for Complex Iterations:\n",
    "   #Generators simplify code that needs to maintain state between iterations, avoiding the need for managing lists or indices manually.\n",
    "#Example:\n",
    "def reverse_string(s):\n",
    "    for char in reversed(s):\n",
    "        yield char\n",
    "\n",
    "for char in reverse_string(\"hello\"):\n",
    "        print(char, end=\"\") "
   ]
  },
  {
   "cell_type": "code",
   "execution_count": null,
   "id": "41d7bcd6-14fe-48c5-b6dc-2d33cdabab74",
   "metadata": {},
   "outputs": [],
   "source": [
    "Q8. What is a lambda function in Python and when is it typically used?\n",
    "\n",
    "Ans- Python Lambda Functions are anonymous functions means that the function is without a name. \n",
    "     As we already know the def keyword is used to define a normal function in Python. Similarly,\n",
    "     the lambda keyword is used to define an anonymous function in Python. "
   ]
  },
  {
   "cell_type": "code",
   "execution_count": 93,
   "id": "30ff7746-cfe0-4e4e-855d-ae3bc9e43183",
   "metadata": {},
   "outputs": [
    {
     "name": "stdout",
     "output_type": "stream",
     "text": [
      "9\n",
      "9\n"
     ]
    }
   ],
   "source": [
    "# Using lambda\n",
    "sq = lambda x: x ** 2\n",
    "print(sq(3))\n",
    "\n",
    "# Using def\n",
    "def sqdef(x):\n",
    "    return x ** 2\n",
    "print(sqdef(3))"
   ]
  },
  {
   "cell_type": "code",
   "execution_count": null,
   "id": "09752c1d-2ace-4e87-887a-35aeaad27a67",
   "metadata": {},
   "outputs": [],
   "source": [
    "Q9. Explain the purpose and usage of the `map()` function in Python.\n",
    "\n",
    "Ans- The map() function in Python is used to apply a given function to all the items in an iterable (such as a list, tuple, or set) \n",
    "    and return a new iterable (a map object). It is particularly useful for transforming data in a concise and readable way.\n",
    "\n",
    "-> Syntax\n",
    "\n",
    "    map(function, iterable[, iterable2, ...])\n",
    "    function: A function that defines the operation to be applied to the items of the iterable(s).\n",
    "    iterable: One or more iterable(s) whose items will be processed by the function.\n"
   ]
  },
  {
   "cell_type": "code",
   "execution_count": 95,
   "id": "d3527f3c-1a90-4613-bd96-78eb922a204b",
   "metadata": {},
   "outputs": [
    {
     "name": "stdout",
     "output_type": "stream",
     "text": [
      "[2, 4, 6, 8]\n"
     ]
    }
   ],
   "source": [
    "#example:\n",
    "a = [1, 2, 3, 4]\n",
    "\n",
    "# Using custom function in \"function\" parameter\n",
    "# This function is simply doubles the provided number\n",
    "def double(val):\n",
    "  return val*2\n",
    "\n",
    "res = list(map(double, a))\n",
    "print(res)"
   ]
  },
  {
   "cell_type": "code",
   "execution_count": null,
   "id": "612745e4-393c-4bd4-9ff0-1f6e083128d6",
   "metadata": {},
   "outputs": [],
   "source": [
    "Q10. What is the difference between `map()`, `reduce()`, and `filter()` functions in Python?\n",
    "\n",
    "Ans- \n",
    "    1. Map Function in Python:\n",
    "     The map () function returns a map object(which is an iterator) of the results after applying the given function to each item of a given \n",
    "     iterable (list, tuple, etc.).\n",
    "    \n",
    "     Syntax: map(fun, iter)\n",
    "     Parameters:\n",
    "        function: It is a function to which map passes each element of given iterable.\n",
    "        iter:  iterable object to be mapped."
   ]
  },
  {
   "cell_type": "code",
   "execution_count": 97,
   "id": "08bc65d6-09a4-4bad-9672-115eb7df9a5e",
   "metadata": {},
   "outputs": [
    {
     "name": "stdout",
     "output_type": "stream",
     "text": [
      "[10, 12, 14, 16]\n"
     ]
    }
   ],
   "source": [
    "#example:\n",
    "# Function to return double of n\n",
    "def double(n):\n",
    "    return n * 2\n",
    "\n",
    "# Using map to double all numbers\n",
    "numbers = [5, 6, 7, 8]\n",
    "result = map(double, numbers)\n",
    "print(list(result))\n"
   ]
  },
  {
   "cell_type": "code",
   "execution_count": null,
   "id": "4b0ce9f1-42d1-46ee-a888-624a99b6cd23",
   "metadata": {},
   "outputs": [],
   "source": [
    "2. Reduce Function in Python:\n",
    "   The reduce function is used to apply a particular function passed in its argument to all of the list elements \n",
    "    mentioned in the sequence passed along.This function is defined in “functools” module.\n",
    "\n",
    "    Syntax: reduce(func, iterable[, initial])\n",
    "    Parameters:\n",
    "        function: It is a function to execuate on each element of the iterable objec\n",
    "        iter: It is iterable to be reduced"
   ]
  },
  {
   "cell_type": "code",
   "execution_count": 99,
   "id": "078c2782-83ec-4dfc-a819-0b1a01cd76d6",
   "metadata": {},
   "outputs": [
    {
     "name": "stdout",
     "output_type": "stream",
     "text": [
      "Product of list elements: 24\n"
     ]
    }
   ],
   "source": [
    "#example:\n",
    "import functools\n",
    "\n",
    "# Define a list of numbers\n",
    "numbers = [1, 2, 3, 4]\n",
    "\n",
    "# Use reduce to compute the product of list elements\n",
    "product = functools.reduce(lambda x, y: x * y, numbers)\n",
    "print(\"Product of list elements:\", product)"
   ]
  },
  {
   "cell_type": "code",
   "execution_count": null,
   "id": "5dae9f04-a331-4de0-895f-dd0e53c26bc2",
   "metadata": {},
   "outputs": [],
   "source": [
    "3.Filter Function in Python:\n",
    " The filter() method filters the given sequence with the help of a function that tests each element in the sequence to be true or not. \n",
    "\n",
    "    Syntax: filter(function, sequence)\n",
    "    Parameters:\n",
    "        function: function that tests if each element of a sequence is true or not.\n",
    "        sequence: sequence which needs to be filtered, it can be sets, lists, tuples, or containers of any iterators."
   ]
  },
  {
   "cell_type": "code",
   "execution_count": 101,
   "id": "0d8671a6-4912-4268-9b3b-5d5c5b092949",
   "metadata": {},
   "outputs": [
    {
     "name": "stdout",
     "output_type": "stream",
     "text": [
      "Even numbers: [2, 4, 6, 8, 10]\n"
     ]
    }
   ],
   "source": [
    "#example:\n",
    "# Define a function to check if a number is even\n",
    "def is_even(n):\n",
    "    return n % 2 == 0\n",
    "\n",
    "# Define a list of numbers\n",
    "numbers = [1, 2, 3, 4, 5, 6, 7, 8, 9, 10]\n",
    "\n",
    "# Use filter to filter out even numbers\n",
    "even_numbers = filter(is_even, numbers)\n",
    "print(\"Even numbers:\", list(even_numbers))"
   ]
  },
  {
   "cell_type": "code",
   "execution_count": null,
   "id": "33cfd753-bcd7-4043-840f-c9e40cb8fc84",
   "metadata": {},
   "outputs": [],
   "source": [
    "Q11. 11. Using pen & Paper write the internal mechanism for sum operation using reduce function on this given\n",
    "list:[47,11,42,13]\n",
    "\n",
    "Ans- attached Pen Paper Answer is in Image form is in github link."
   ]
  },
  {
   "cell_type": "code",
   "execution_count": null,
   "id": "68200bfd-2c64-44c8-afc8-dda724594fd2",
   "metadata": {},
   "outputs": [],
   "source": [
    "######################Practical Questions########################"
   ]
  },
  {
   "cell_type": "code",
   "execution_count": null,
   "id": "0da5faab-fef5-4493-9da5-a4a718a249ce",
   "metadata": {},
   "outputs": [],
   "source": [
    "Q1. Write a Python function that takes a list of numbers as input and returns the sum of all even numbers in\n",
    "    the list."
   ]
  },
  {
   "cell_type": "code",
   "execution_count": 162,
   "id": "9bc0aefe-4730-4a04-95a5-a12a33332c42",
   "metadata": {},
   "outputs": [
    {
     "name": "stdout",
     "output_type": "stream",
     "text": [
      "12\n"
     ]
    }
   ],
   "source": [
    "def sum_of_even_numbers(numbers):\n",
    "    # Initialize the sum to 0\n",
    "    total = 0\n",
    "    \n",
    "    # Loop through each number in the list\n",
    "    for num in numbers:\n",
    "        # Check if the number is even\n",
    "        if num % 2 == 0:\n",
    "            total += num  # Add the even number to the total\n",
    "    \n",
    "    return total\n",
    "#example\n",
    "numbers = [1, 2, 3, 4, 5, 6]\n",
    "result = sum_of_even_numbers(numbers)\n",
    "print(result)  # Output: 12 (2 + 4 + 6)\n"
   ]
  },
  {
   "cell_type": "code",
   "execution_count": null,
   "id": "44792ee9-5c9e-48d9-8f0b-dabb178ee14f",
   "metadata": {},
   "outputs": [],
   "source": [
    "Q2. Create a Python function that accepts a string and returns the reverse of that string."
   ]
  },
  {
   "cell_type": "code",
   "execution_count": 134,
   "id": "3889a2a4-c5b1-47d9-8f0b-050d785a6bad",
   "metadata": {},
   "outputs": [
    {
     "name": "stdout",
     "output_type": "stream",
     "text": [
      "The reversed string is: olleh\n"
     ]
    }
   ],
   "source": [
    "def reverse_string(s):\n",
    "    \"\"\"\n",
    "    Reverse a given string.\n",
    "\n",
    "    Parameters:\n",
    "        s (str): The input string.\n",
    "\n",
    "    Returns:\n",
    "        str: The reversed string.\n",
    "    \"\"\"\n",
    "    return s[::-1]\n",
    "\n",
    "# Example usage:\n",
    "example_string = \"hello\"\n",
    "reversed_string = reverse_string(example_string)\n",
    "print(f\"The reversed string is: {reversed_string}\")"
   ]
  },
  {
   "cell_type": "code",
   "execution_count": null,
   "id": "78c21edd-290e-4a41-8cee-abe2869cada1",
   "metadata": {},
   "outputs": [],
   "source": [
    "Q3.  Implement a Python function that takes a list of integers and returns a new list containing the squares of\n",
    "     each number."
   ]
  },
  {
   "cell_type": "code",
   "execution_count": 136,
   "id": "d08a526b-023d-40a9-85f1-fc4755aa989c",
   "metadata": {},
   "outputs": [
    {
     "name": "stdout",
     "output_type": "stream",
     "text": [
      "The list of squares is: [1, 4, 9, 16, 25]\n"
     ]
    }
   ],
   "source": [
    "def square_numbers(numbers):\n",
    "    \"\"\"\n",
    "    Return a new list containing the squares of each number in the input list.\n",
    "\n",
    "    Parameters:\n",
    "        numbers (list): A list of integers.\n",
    "\n",
    "    Returns:\n",
    "        list: A list containing the squares of the input numbers.\n",
    "    \"\"\"\n",
    "    return [num ** 2 for num in numbers]\n",
    "\n",
    "# Example usage:\n",
    "example_list = [1, 2, 3, 4, 5]\n",
    "squared_list = square_numbers(example_list)\n",
    "print(f\"The list of squares is: {squared_list}\")"
   ]
  },
  {
   "cell_type": "code",
   "execution_count": null,
   "id": "0ff72efe-e514-4e58-8d18-a2c50c178d5f",
   "metadata": {},
   "outputs": [],
   "source": [
    "Q4. Write a Python function that checks if a given number is prime or not from 1 to 200."
   ]
  },
  {
   "cell_type": "code",
   "execution_count": 138,
   "id": "fa0d7ed1-c4c3-481d-ac0f-2550139c504d",
   "metadata": {},
   "outputs": [
    {
     "name": "stdout",
     "output_type": "stream",
     "text": [
      "2 is a prime number.\n",
      "3 is a prime number.\n",
      "5 is a prime number.\n",
      "7 is a prime number.\n",
      "11 is a prime number.\n",
      "13 is a prime number.\n",
      "17 is a prime number.\n",
      "19 is a prime number.\n",
      "23 is a prime number.\n",
      "29 is a prime number.\n",
      "31 is a prime number.\n",
      "37 is a prime number.\n",
      "41 is a prime number.\n",
      "43 is a prime number.\n",
      "47 is a prime number.\n",
      "53 is a prime number.\n",
      "59 is a prime number.\n",
      "61 is a prime number.\n",
      "67 is a prime number.\n",
      "71 is a prime number.\n",
      "73 is a prime number.\n",
      "79 is a prime number.\n",
      "83 is a prime number.\n",
      "89 is a prime number.\n",
      "97 is a prime number.\n",
      "101 is a prime number.\n",
      "103 is a prime number.\n",
      "107 is a prime number.\n",
      "109 is a prime number.\n",
      "113 is a prime number.\n",
      "127 is a prime number.\n",
      "131 is a prime number.\n",
      "137 is a prime number.\n",
      "139 is a prime number.\n",
      "149 is a prime number.\n",
      "151 is a prime number.\n",
      "157 is a prime number.\n",
      "163 is a prime number.\n",
      "167 is a prime number.\n",
      "173 is a prime number.\n",
      "179 is a prime number.\n",
      "181 is a prime number.\n",
      "191 is a prime number.\n",
      "193 is a prime number.\n",
      "197 is a prime number.\n",
      "199 is a prime number.\n"
     ]
    }
   ],
   "source": [
    "def is_prime(n):\n",
    "    \"\"\"\n",
    "    Check if a number is prime.\n",
    "\n",
    "    Parameters:\n",
    "        n (int): The number to check.\n",
    "\n",
    "    Returns:\n",
    "        bool: True if the number is prime, False otherwise.\n",
    "    \"\"\"\n",
    "    if n <= 1:\n",
    "        return False  # 0 and 1 are not prime numbers\n",
    "    for i in range(2, int(n ** 0.5) + 1):\n",
    "        if n % i == 0:\n",
    "            return False\n",
    "    return True\n",
    "\n",
    "# Check prime numbers from 1 to 200\n",
    "for num in range(1, 201):\n",
    "    if is_prime(num):\n",
    "        print(f\"{num} is a prime number.\")"
   ]
  },
  {
   "cell_type": "code",
   "execution_count": null,
   "id": "5f5199b2-5a8d-44d2-bf0e-734dcf717d72",
   "metadata": {},
   "outputs": [],
   "source": [
    "Q5. Create an iterator class in Python that generates the Fibonacci sequence up to a specified number of\n",
    "    terms."
   ]
  },
  {
   "cell_type": "code",
   "execution_count": 140,
   "id": "9534c0fc-1e21-43d6-8725-77a355fa9004",
   "metadata": {},
   "outputs": [
    {
     "name": "stdout",
     "output_type": "stream",
     "text": [
      "0 1 1 2 3 5 8 13 21 34 "
     ]
    }
   ],
   "source": [
    "class FibonacciIterator:\n",
    "    \"\"\"\n",
    "    Iterator for generating the Fibonacci sequence up to a specified number of terms.\n",
    "    \"\"\"\n",
    "    def __init__(self, n_terms):\n",
    "        \"\"\"\n",
    "        Initialize the iterator with the number of terms.\n",
    "\n",
    "        Parameters:\n",
    "            n_terms (int): The number of terms to generate.\n",
    "        \"\"\"\n",
    "        self.n_terms = n_terms\n",
    "        self.current = 0\n",
    "        self.next = 1\n",
    "        self.index = 0\n",
    "\n",
    "    def __iter__(self):\n",
    "        \"\"\"\n",
    "        Return the iterator object.\n",
    "        \"\"\"\n",
    "        return self\n",
    "\n",
    "    def __next__(self):\n",
    "        \"\"\"\n",
    "        Generate the next term in the Fibonacci sequence.\n",
    "        \"\"\"\n",
    "        if self.index >= self.n_terms:\n",
    "            raise StopIteration\n",
    "        fib = self.current\n",
    "        self.current, self.next = self.next, self.current + self.next\n",
    "        self.index += 1\n",
    "        return fib\n",
    "\n",
    "# Example usage:\n",
    "n = 10\n",
    "fib_iterator = FibonacciIterator(n)\n",
    "for num in fib_iterator:\n",
    "    print(num, end=\" \")"
   ]
  },
  {
   "cell_type": "code",
   "execution_count": null,
   "id": "1385d890-961b-4c18-b8d4-8942823c9642",
   "metadata": {},
   "outputs": [],
   "source": [
    "Q6.  Write a generator function in Python that yields the powers of 2 up to a given exponent."
   ]
  },
  {
   "cell_type": "code",
   "execution_count": 142,
   "id": "35bd494b-0b66-48d5-ba97-7a6058d11e4f",
   "metadata": {},
   "outputs": [
    {
     "name": "stdout",
     "output_type": "stream",
     "text": [
      "1 2 4 8 16 32 64 128 256 512 1024 "
     ]
    }
   ],
   "source": [
    "def powers_of_two(max_exponent):\n",
    "    \"\"\"\n",
    "    Generate powers of 2 up to a given exponent.\n",
    "\n",
    "    Parameters:\n",
    "        max_exponent (int): The maximum exponent.\n",
    "\n",
    "    Yields:\n",
    "        int: The next power of 2.\n",
    "    \"\"\"\n",
    "    for exponent in range(max_exponent + 1):\n",
    "        yield 2 ** exponent\n",
    "\n",
    "# Example usage:\n",
    "for power in powers_of_two(10):\n",
    "    print(power, end=\" \")\n"
   ]
  },
  {
   "cell_type": "code",
   "execution_count": null,
   "id": "10762a82-a956-4969-82df-6494c1c71312",
   "metadata": {},
   "outputs": [],
   "source": [
    "Q7.  Implement a generator function that reads a file line by line and yields each line as a string."
   ]
  },
  {
   "cell_type": "code",
   "execution_count": 144,
   "id": "da02f7a4-3a42-4dc5-b7be-91aa2c0beb16",
   "metadata": {},
   "outputs": [
    {
     "name": "stdout",
     "output_type": "stream",
     "text": [
      "Error: File 'example.txt' not found.\n"
     ]
    }
   ],
   "source": [
    "def read_file_line_by_line(file_path):\n",
    "    \"\"\"\n",
    "    Generator function that reads a file line by line.\n",
    "\n",
    "    Parameters:\n",
    "        file_path (str): The path to the file to read.\n",
    "\n",
    "    Yields:\n",
    "        str: The next line from the file.\n",
    "    \"\"\"\n",
    "    try:\n",
    "        with open(file_path, 'r') as file:\n",
    "            for line in file:\n",
    "                yield line.rstrip('\\n')  # Remove the trailing newline character\n",
    "    except FileNotFoundError:\n",
    "        print(f\"Error: File '{file_path}' not found.\")\n",
    "        # You might want to handle the error differently,\n",
    "        # like returning an empty generator or raising a custom exception.\n",
    "\n",
    "# Example usage:\n",
    "# Assuming 'example.txt' is a file in the same directory,\n",
    "# make sure the file exists or change the path accordingly\n",
    "file_path = 'example.txt'  # or the actual path to your file\n",
    "try:\n",
    "    for line in read_file_line_by_line(file_path):\n",
    "        print(line)\n",
    "except FileNotFoundError:\n",
    "    print(f\"Error: File '{file_path}' not found. Please create the file or provide the correct path.\")"
   ]
  },
  {
   "cell_type": "code",
   "execution_count": null,
   "id": "1a22e1e5-5a48-48e2-9a8d-90a73267210f",
   "metadata": {},
   "outputs": [],
   "source": [
    "Q8. Use a lambda function in Python to sort a list of tuples based on the second element of each tuple."
   ]
  },
  {
   "cell_type": "code",
   "execution_count": 146,
   "id": "895d8fcd-e324-450e-b81d-6c3326d39f37",
   "metadata": {},
   "outputs": [
    {
     "name": "stdout",
     "output_type": "stream",
     "text": [
      "[(2, 1), (3, 2), (1, 3), (4, 5)]\n"
     ]
    }
   ],
   "source": [
    "# Sample list of tuples\n",
    "data = [(1, 3), (2, 1), (3, 2), (4, 5)]\n",
    "\n",
    "# Sort the list of tuples based on the second element\n",
    "sorted_data = sorted(data, key=lambda x: x[1])\n",
    "\n",
    "print(sorted_data)\n"
   ]
  },
  {
   "cell_type": "code",
   "execution_count": null,
   "id": "4f2cbdd1-3e49-4b79-a89f-547b75e6a06a",
   "metadata": {},
   "outputs": [],
   "source": [
    "Q9.  Write a Python program that uses `map()` to convert a list of temperatures from Celsius to Fahrenheit."
   ]
  },
  {
   "cell_type": "code",
   "execution_count": 148,
   "id": "d5c616d2-a823-40f0-ba0e-1d9dd0aef940",
   "metadata": {},
   "outputs": [
    {
     "name": "stdout",
     "output_type": "stream",
     "text": [
      "Temperatures in Fahrenheit: [32.0, 68.0, 86.0, 212.0, -40.0]\n"
     ]
    }
   ],
   "source": [
    "# Function to convert Celsius to Fahrenheit\n",
    "def celsius_to_fahrenheit(c):\n",
    "    return (c * 9/5) + 32\n",
    "\n",
    "# List of temperatures in Celsius\n",
    "celsius_temps = [0, 20, 30, 100, -40]\n",
    "\n",
    "# Use the map() function to apply the conversion to each temperature\n",
    "fahrenheit_temps = list(map(celsius_to_fahrenheit, celsius_temps))\n",
    "\n",
    "# Print the result\n",
    "print(\"Temperatures in Fahrenheit:\", fahrenheit_temps)"
   ]
  },
  {
   "cell_type": "code",
   "execution_count": null,
   "id": "57989b14-6938-4cda-aee6-9da0750e1c8c",
   "metadata": {},
   "outputs": [],
   "source": [
    "Q10.  Create a Python program that uses `filter()` to remove all the vowels from a given string."
   ]
  },
  {
   "cell_type": "code",
   "execution_count": 150,
   "id": "024a729d-0bb5-41be-ac21-78500c48d9f6",
   "metadata": {},
   "outputs": [
    {
     "name": "stdout",
     "output_type": "stream",
     "text": [
      "String without vowels: Hll, hw r y dng tdy?\n"
     ]
    }
   ],
   "source": [
    "# Function to check if a character is not a vowel\n",
    "def remove_vowels(char):\n",
    "    return char.lower() not in 'aeiou'\n",
    "\n",
    "# Input string\n",
    "input_string = \"Hello, how are you doing today?\"\n",
    "\n",
    "# Use the filter() function to remove vowels from the string\n",
    "filtered_characters = filter(remove_vowels, input_string)\n",
    "\n",
    "# Join the filtered characters back into a string\n",
    "result_string = ''.join(filtered_characters)\n",
    "\n",
    "# Print the result\n",
    "print(\"String without vowels:\", result_string)"
   ]
  },
  {
   "cell_type": "code",
   "execution_count": null,
   "id": "e7c6ce2b-9349-48d1-9b0d-a16ad0c53950",
   "metadata": {},
   "outputs": [],
   "source": [
    "Q11. 11) Imagine an accounting routine used in a book shop. It works on a list with sublists, which look like this:\n",
    "Write a Python program, which returns a list with 2-tuples. Each tuple consists of the order number and the\n",
    "product of the price per item and the quantity. The product should be increased by 10,- € if the value of the\n",
    "order is smaller than 100,00 €.\n",
    "\n",
    "Write a Python program using lambda and map"
   ]
  },
  {
   "cell_type": "code",
   "execution_count": 152,
   "id": "780651c0-ee03-43f6-b5ba-d6ff588c88ba",
   "metadata": {},
   "outputs": [
    {
     "name": "stdout",
     "output_type": "stream",
     "text": [
      "[(1, 55.0), (2, 100.0), (3, 106.0), (4, 100.0)]\n"
     ]
    }
   ],
   "source": [
    "# Sample input: list of orders\n",
    "orders = [\n",
    "    [1, \"Book A\", 15.0, 3],   # Total value = 15*3 = 45 < 100, should add 10 €\n",
    "    [2, \"Book B\", 20.0, 5],   # Total value = 20*5 = 100, no extra 10 €\n",
    "    [3, \"Book C\", 8.0, 12],   # Total value = 8*12 = 96 < 100, should add 10 €\n",
    "    [4, \"Book D\", 25.0, 4]    # Total value = 25*4 = 100, no extra 10 €\n",
    "]\n",
    "\n",
    "# Map function to calculate required tuples\n",
    "result = list(map(lambda order: (order[0], order[2] * order[3] + 10 if order[2] * order[3] < 100 else order[2] * order[3]), orders))\n",
    "\n",
    "# Print the output\n",
    "print(result)\n"
   ]
  },
  {
   "cell_type": "code",
   "execution_count": null,
   "id": "797f2898-8d91-46cb-9e8d-0a75311d4df1",
   "metadata": {},
   "outputs": [],
   "source": []
  },
  {
   "cell_type": "code",
   "execution_count": null,
   "id": "8dcc0f54-3c54-4983-9a41-0fb41a6d3080",
   "metadata": {},
   "outputs": [],
   "source": []
  },
  {
   "cell_type": "code",
   "execution_count": null,
   "id": "5328b288-f1f7-424e-8d62-34f82ed2b882",
   "metadata": {},
   "outputs": [],
   "source": []
  },
  {
   "cell_type": "code",
   "execution_count": null,
   "id": "bb4f8dae-e62e-4603-bed7-6abe2471608d",
   "metadata": {},
   "outputs": [],
   "source": []
  }
 ],
 "metadata": {
  "kernelspec": {
   "display_name": "Python 3 (ipykernel)",
   "language": "python",
   "name": "python3"
  },
  "language_info": {
   "codemirror_mode": {
    "name": "ipython",
    "version": 3
   },
   "file_extension": ".py",
   "mimetype": "text/x-python",
   "name": "python",
   "nbconvert_exporter": "python",
   "pygments_lexer": "ipython3",
   "version": "3.12.7"
  }
 },
 "nbformat": 4,
 "nbformat_minor": 5
}
